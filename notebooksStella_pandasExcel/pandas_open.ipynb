{
 "cells": [
  {
   "cell_type": "code",
   "execution_count": 13,
   "metadata": {},
   "outputs": [
    {
     "name": "stdout",
     "output_type": "stream",
     "text": [
      "Requirement already satisfied: pandas in /home/codespace/.local/lib/python3.12/site-packages (2.2.3)\n",
      "Requirement already satisfied: numpy>=1.26.0 in /home/codespace/.local/lib/python3.12/site-packages (from pandas) (2.2.0)\n",
      "Requirement already satisfied: python-dateutil>=2.8.2 in /home/codespace/.local/lib/python3.12/site-packages (from pandas) (2.9.0.post0)\n",
      "Requirement already satisfied: pytz>=2020.1 in /home/codespace/.local/lib/python3.12/site-packages (from pandas) (2024.2)\n",
      "Requirement already satisfied: tzdata>=2022.7 in /home/codespace/.local/lib/python3.12/site-packages (from pandas) (2024.2)\n",
      "Requirement already satisfied: six>=1.5 in /home/codespace/.local/lib/python3.12/site-packages (from python-dateutil>=2.8.2->pandas) (1.17.0)\n",
      "Collecting openpyxl\n",
      "  Downloading openpyxl-3.1.5-py2.py3-none-any.whl.metadata (2.5 kB)\n",
      "Collecting et-xmlfile (from openpyxl)\n",
      "  Downloading et_xmlfile-2.0.0-py3-none-any.whl.metadata (2.7 kB)\n",
      "Downloading openpyxl-3.1.5-py2.py3-none-any.whl (250 kB)\n",
      "Downloading et_xmlfile-2.0.0-py3-none-any.whl (18 kB)\n",
      "Installing collected packages: et-xmlfile, openpyxl\n",
      "Successfully installed et-xmlfile-2.0.0 openpyxl-3.1.5\n",
      "done\n"
     ]
    }
   ],
   "source": [
    "! pip install pandas\n",
    "! pip install openpyxl  #如不会报错moduel缺失\n",
    "\n",
    "import pandas as pd\n"
   ]
  },
  {
   "cell_type": "markdown",
   "metadata": {},
   "source": [
    "## Create Excel: from df\n",
    "- create an Excel using df\n",
    "- turn df into an Excel"
   ]
  },
  {
   "cell_type": "code",
   "execution_count": 14,
   "metadata": {},
   "outputs": [
    {
     "name": "stdout",
     "output_type": "stream",
     "text": [
      "done\n"
     ]
    }
   ],
   "source": [
    "#创建空excel\n",
    "df = pd.DataFrame()  #空内容\n",
    "df.to_excel('forSample.xlsx') #创建名称"
   ]
  },
  {
   "cell_type": "markdown",
   "metadata": {},
   "source": [
    "## Read Excel：turn Excel into df\n",
    "\n",
    "pd.read_excel()\n",
    "- same for CSV by: pd.read_csv('path')\n",
    "\n",
    "df.shape——显示行列数\n",
    "\n",
    "df.columns——显示列名\n",
    "\n",
    "df.head()/df.tail(5)——显示头和尾，括号里数字为几行\n",
    "\n",
    "跳行：pd.read_excel(oi,header = 1)\n",
    "- 多种方法"
   ]
  },
  {
   "cell_type": "code",
   "execution_count": 22,
   "metadata": {},
   "outputs": [
    {
     "name": "stdout",
     "output_type": "stream",
     "text": [
      "(248, 7)\n",
      "Index(['countrycode', 'countryname', 'result', 'existing country code',\n",
      "       '    <Match status='yes' country='US' />',\n",
      "       '    <Match status='never' country='GB' />', 'Unnamed: 6'],\n",
      "      dtype='object')\n",
      "  countrycode countryname result existing country code  \\\n",
      "0          AD     Andorra    NaN                    US   \n",
      "\n",
      "       <Match status='yes' country='US' />  \\\n",
      "0      <Match status='yes' country='AD' />   \n",
      "\n",
      "       <Match status='never' country='GB' />  \\\n",
      "0      <Match status='never' country='AD' />   \n",
      "\n",
      "                                     Unnamed: 6  \n",
      "0  需求1:以全量国家为基准（248个），找出目前没有配置 yes 的国家代码 (193个)  \n",
      "----------------------------------------------\n",
      "    countrycode countryname result existing country code  \\\n",
      "247          ZW    Zimbabwe    NaN                   NaN   \n",
      "\n",
      "         <Match status='yes' country='US' />  \\\n",
      "247      <Match status='yes' country='ZW' />   \n",
      "\n",
      "         <Match status='never' country='GB' /> Unnamed: 6  \n",
      "247      <Match status='never' country='ZW' />        NaN  \n"
     ]
    }
   ],
   "source": [
    "gglp_df = pd.read_excel('GG兜底LP.xlsx') # path：云端无法打开本地D:/Users/jianying_wang/Desktop/GG兜底LP.xlsx\n",
    "\n",
    "print(gglp_df.shape) # 返回(row数, column数)\n",
    "print(gglp_df.columns) # 返回columns名称\n",
    "\n",
    "# 返回table部分内容：df.hear()/ df.tail() --默认前5行 or 后5行\n",
    "print(gglp_df.head(1))\n",
    "print('----------------------------------------------')\n",
    "print(gglp_df.tail(1))"
   ]
  },
  {
   "cell_type": "code",
   "execution_count": null,
   "metadata": {},
   "outputs": [],
   "source": [
    "# 打开时忽略第一行 --》适用于第1行至第n行为脏数据\n",
    "\n",
    "# 方法1：从第2行开始读（index starts from 0 ）\n",
    "gglp_df = pd.read_excel('GG兜底LP.xlsx', header=1)\n",
    "\n",
    "# 方法2\n",
    "gglp_df = pd.read_excel('GG兜底LP.xlsx', skiprow=1)\n",
    "\n",
    "# 注意：\n",
    "# pd会自动跳过前面的空行；如前序均为空行，pd自动跳到有数据的第一行，作为header=0的开始位"
   ]
  },
  {
   "cell_type": "markdown",
   "metadata": {},
   "source": [
    "## 设置index, 设置列名\n",
    "pd.df会自动创建index column\n",
    "\n",
    "header = None\n",
    "\n",
    "\n",
    "df.set_index('column_name',inplace = True),把这列作为行的index,并就地保存\n",
    "- inplace\n",
    "\n",
    "读取时：可以输入pd.read_excel(oi,index_col = '列名'),这样pandas的df直接就以此列为index，而不会额外创建index column"
   ]
  },
  {
   "cell_type": "code",
   "execution_count": null,
   "metadata": {},
   "outputs": [],
   "source": [
    "\n",
    "# # header=None情况下设置列名：index=0行直接开始设置\n",
    "# header = None\n",
    "# df.columns = ['column_1', 'column_2', 'column_3'] #设置列名"
   ]
  },
  {
   "cell_type": "code",
   "execution_count": null,
   "metadata": {},
   "outputs": [],
   "source": []
  }
 ],
 "metadata": {
  "kernelspec": {
   "display_name": "Python 3",
   "language": "python",
   "name": "python3"
  },
  "language_info": {
   "codemirror_mode": {
    "name": "ipython",
    "version": 3
   },
   "file_extension": ".py",
   "mimetype": "text/x-python",
   "name": "python",
   "nbconvert_exporter": "python",
   "pygments_lexer": "ipython3",
   "version": "3.12.1"
  }
 },
 "nbformat": 4,
 "nbformat_minor": 2
}
