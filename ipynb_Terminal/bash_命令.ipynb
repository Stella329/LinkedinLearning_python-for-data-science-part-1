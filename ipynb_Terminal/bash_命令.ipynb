{
 "cells": [
  {
   "cell_type": "markdown",
   "metadata": {},
   "source": [
    "# 一般命令\n",
    "\n",
    "每天一个linux命令目录\n",
    "https://www.cnblogs.com/peida/archive/2012/12/05/2803591.html"
   ]
  },
  {
   "cell_type": "markdown",
   "metadata": {},
   "source": [
    "### 清屏"
   ]
  },
  {
   "cell_type": "code",
   "execution_count": null,
   "metadata": {},
   "outputs": [],
   "source": [
    "clear"
   ]
  },
  {
   "cell_type": "markdown",
   "metadata": {},
   "source": [
    "### 显示隐藏文件夹"
   ]
  },
  {
   "cell_type": "code",
   "execution_count": null,
   "metadata": {},
   "outputs": [],
   "source": [
    "# 显示: true\n",
    "defaults write com.apple.finder AppleShowAllFiles -bool true; killall Finder\n",
    "\n",
    "# 隐藏: false\n",
    "defaults write com.apple.finder AppleShowAllFiles -bool false; killall Finder"
   ]
  },
  {
   "cell_type": "markdown",
   "metadata": {},
   "source": [
    "# Path\n",
    "\n",
    "终端对文件，文件夹的操作:\n",
    "\n",
    "当你需要使用终端对文件夹进行操作时，终端需要你告诉它，你想要修改的文件在哪里 --路径的概念"
   ]
  },
  {
   "cell_type": "markdown",
   "metadata": {},
   "source": [
    "### 查看当前路径"
   ]
  },
  {
   "cell_type": "code",
   "execution_count": null,
   "metadata": {},
   "outputs": [],
   "source": [
    "# 查看当前路径\n",
    "\n",
    "$ pwd\n",
    "\n",
    "#win: cd"
   ]
  },
  {
   "cell_type": "code",
   "execution_count": null,
   "metadata": {},
   "outputs": [],
   "source": [
    "# 查看当前路径下有什么文件\n",
    "\n",
    "ls -R path \n",
    "\n",
    "# ls: 列举当前路径下的全部文件\n",
    "# -R：识别符，显示资源文件夹中的所有子文件"
   ]
  },
  {
   "cell_type": "markdown",
   "metadata": {},
   "source": [
    "### 路径移动"
   ]
  },
  {
   "cell_type": "code",
   "execution_count": null,
   "metadata": {},
   "outputs": [],
   "source": [
    "# Bash\n",
    "\n",
    "# 绝对路径\n",
    "cd 根目录/文件夹1/文件夹2\n",
    "\n",
    "# 相对路径：已处于文件夹1中，向下进入文件夹2\n",
    "cd ./文件夹2\n",
    "\n",
    "# 快速导入：文件夹拖入终端，它会自动把绝对路径提取出来\n",
    "\n",
    "\n",
    "\n",
    "# win\n",
    "# 切换磁盘：d:（进入 d 盘）\n",
    "# 切换磁盘和目录：cd /d d:/test（进入 d 盘 test 文件夹）\n",
    "# 进入文件夹：cd \\test1\\test2（进入 test2 文件夹）\n",
    "# 返回根目录：cd \\\n",
    "# 回到上级目录：cd ..\n",
    "# 新建文件夹：md test"
   ]
  },
  {
   "cell_type": "code",
   "execution_count": null,
   "metadata": {},
   "outputs": [],
   "source": [
    "# 显示目录中文件列表\n",
    "\n",
    "\n",
    "# win\n",
    "dir"
   ]
  }
 ],
 "metadata": {
  "language_info": {
   "name": "python"
  }
 },
 "nbformat": 4,
 "nbformat_minor": 2
}
