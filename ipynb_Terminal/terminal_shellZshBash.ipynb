{
 "cells": [
  {
   "cell_type": "markdown",
   "metadata": {},
   "source": [
    "# Terminal环境变量: 查看shell"
   ]
  },
  {
   "cell_type": "code",
   "execution_count": null,
   "metadata": {},
   "outputs": [],
   "source": [
    "# 希望查看当前 Linux或MacOS的默认shell\n",
    "$ echo $SHELL "
   ]
  },
  {
   "cell_type": "code",
   "execution_count": null,
   "metadata": {},
   "outputs": [],
   "source": [
    "# 想知道自己系统安装了哪些shell\n",
    "cat /betc/shells"
   ]
  },
  {
   "cell_type": "markdown",
   "metadata": {},
   "source": [
    "## Bash vs. zsh\n",
    "\n",
    "完全自定义终端：若你想要完全自定义终端，可以在「终端 - 偏好设置 - 描述文件」中进行更改。"
   ]
  },
  {
   "cell_type": "code",
   "execution_count": null,
   "metadata": {},
   "outputs": [],
   "source": [
    "# 符号区别\n",
    "\n",
    "# Bash\n",
    "#!/bin/bash\n",
    "echo \"Hello World\"\n",
    "\n",
    "# zsh\n",
    "#!/bin/zsh\n",
    "echo \"Hello World!\""
   ]
  },
  {
   "cell_type": "code",
   "execution_count": null,
   "metadata": {},
   "outputs": [],
   "source": [
    "# bash和zsh切换\n",
    "\n",
    "# 切换bash： \n",
    "chsh -s /bin/bash\n",
    "# 切换zsh： \n",
    "chsh -s /bin/zsh\n",
    "\n",
    "# 在终端app的系统偏好设置里手动设置"
   ]
  },
  {
   "cell_type": "code",
   "execution_count": null,
   "metadata": {},
   "outputs": [],
   "source": [
    "# 配置文件\n",
    "\n",
    "# bash读取的配置文件：\n",
    "~/.bash_profile 文件\n",
    "# zsh读取的配置文件：\n",
    "~/.zshrc 文件\n",
    "\n",
    "\n",
    "# 当从bash切换为zsh时，如果不想重新配置一遍.zshrc文件，可以__在.zshrc文件中加上source ~/.bash_profile，从而直接从.bash_profile文件读取配置。\n",
    "source ~/.bash_profile"
   ]
  }
 ],
 "metadata": {
  "language_info": {
   "name": "python"
  }
 },
 "nbformat": 4,
 "nbformat_minor": 2
}
